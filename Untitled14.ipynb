{
  "nbformat": 4,
  "nbformat_minor": 0,
  "metadata": {
    "colab": {
      "name": "Untitled14.ipynb",
      "provenance": [],
      "authorship_tag": "ABX9TyMOI90w0mz0AKxxC3NFHs5a",
      "include_colab_link": true
    },
    "kernelspec": {
      "name": "python3",
      "display_name": "Python 3"
    },
    "language_info": {
      "name": "python"
    }
  },
  "cells": [
    {
      "cell_type": "markdown",
      "metadata": {
        "id": "view-in-github",
        "colab_type": "text"
      },
      "source": [
        "<a href=\"https://colab.research.google.com/github/Tubabyn/Noname1/blob/main/Untitled14.ipynb\" target=\"_parent\"><img src=\"https://colab.research.google.com/assets/colab-badge.svg\" alt=\"Open In Colab\"/></a>"
      ]
    },
    {
      "cell_type": "code",
      "metadata": {
        "colab": {
          "base_uri": "https://localhost:8080/"
        },
        "id": "Ak0fKiK7Hp5s",
        "outputId": "353f7dfc-8650-4d32-8b06-a4e43d03a263"
      },
      "source": [
        "user_input = input(\"please enter a word: \")\n",
        "counter = 0 \n",
        "for char in user_input:\n",
        "  counter += 1\n",
        "  if counter >= len(user_input):\n",
        "      print(char)"
      ],
      "execution_count": null,
      "outputs": [
        {
          "output_type": "stream",
          "text": [
            "please enter a word: clarusway\n",
            "y\n"
          ],
          "name": "stdout"
        }
      ]
    },
    {
      "cell_type": "code",
      "metadata": {
        "colab": {
          "base_uri": "https://localhost:8080/"
        },
        "id": "221CeKfBJwnN",
        "outputId": "50097ed7-3cfe-4d0f-a2df-ef92e0c23649"
      },
      "source": [
        "word = input(\"Give me a word:\")\n",
        "count = 0\n",
        "for i in word:\n",
        "  count += 1\n",
        "  if count <len(word) :\n",
        "    i = i + \"-\"\n",
        "    print(i, end=\"\")"
      ],
      "execution_count": null,
      "outputs": [
        {
          "output_type": "stream",
          "text": [
            "Give me a word:clarusway\n",
            "c-l-a-r-u-s-w-a-"
          ],
          "name": "stdout"
        }
      ]
    },
    {
      "cell_type": "code",
      "metadata": {
        "colab": {
          "base_uri": "https://localhost:8080/"
        },
        "id": "PB5OKjaFKTqK",
        "outputId": "a8dbdf9e-d567-4d21-fc78-3c882a5a1de2"
      },
      "source": [
        "user = {\n",
        "    \"name\": \"Daniel\",\n",
        "    \"surname\": \"Smith\",\n",
        "    \"age\": 35\n",
        "}\n",
        "\n",
        "for attribute in user:\n",
        "  print(attribute)"
      ],
      "execution_count": null,
      "outputs": [
        {
          "output_type": "stream",
          "text": [
            "name\n",
            "surname\n",
            "age\n"
          ],
          "name": "stdout"
        }
      ]
    },
    {
      "cell_type": "code",
      "metadata": {
        "colab": {
          "base_uri": "https://localhost:8080/"
        },
        "id": "dUN1n9XbK2IW",
        "outputId": "80ef1377-8dcd-4a72-c012-ffc996cf9826"
      },
      "source": [
        "user = {\n",
        "    \"name\": \"Daniel\",\n",
        "    \"surname\": \"Smith\",\n",
        "    \"age\": 35\n",
        "}\n",
        "for i in user.values():\n",
        "  print (i, end=\" \")"
      ],
      "execution_count": null,
      "outputs": [
        {
          "output_type": "stream",
          "text": [
            "Daniel Smith 35 "
          ],
          "name": "stdout"
        }
      ]
    },
    {
      "cell_type": "code",
      "metadata": {
        "colab": {
          "base_uri": "https://localhost:8080/"
        },
        "id": "pQXwPMMJLJ1c",
        "outputId": "57304e1f-540e-4d3b-cc4d-ea2c637cc236"
      },
      "source": [
        "user = {\n",
        "    \"name\": \"Daniel\",\n",
        "    \"surname\": \"Smith\",\n",
        "    \"age\": 35\n",
        "}\n",
        "for key, value in user.items():\n",
        "  print (key,\":\",value)"
      ],
      "execution_count": null,
      "outputs": [
        {
          "output_type": "stream",
          "text": [
            "name : Daniel\n",
            "surname : Smith\n",
            "age : 35\n"
          ],
          "name": "stdout"
        }
      ]
    },
    {
      "cell_type": "code",
      "metadata": {
        "colab": {
          "base_uri": "https://localhost:8080/"
        },
        "id": "cSt-4wT4QHNu",
        "outputId": "c8f9f26c-a865-4a55-e5ba-2209b2a24499"
      },
      "source": [
        "times = int(input(\"how many times you like  me to repeat the sentence\"))\n",
        "for i in range(times):\n",
        "  print(\"the statement\")\n"
      ],
      "execution_count": null,
      "outputs": [
        {
          "output_type": "stream",
          "text": [
            "how many times you like  me to repeat the sentence2\n",
            "the statement\n",
            "the statement\n"
          ],
          "name": "stdout"
        }
      ]
    },
    {
      "cell_type": "code",
      "metadata": {
        "colab": {
          "base_uri": "https://localhost:8080/"
        },
        "id": "pD-UhOoMQvAV",
        "outputId": "e3d9c050-37da-4a77-8f77-515c02c9f02f"
      },
      "source": [
        "times = int(input(\"how many times you like  me to repeat the sentence\"))\n",
        "print(\"i will print the statement\", times, \"times\")"
      ],
      "execution_count": null,
      "outputs": [
        {
          "output_type": "stream",
          "text": [
            "how many times you like  me to repeat the sentence4\n",
            "i will print the statement 4 times\n"
          ],
          "name": "stdout"
        }
      ]
    },
    {
      "cell_type": "code",
      "metadata": {
        "id": "xibNP4f1REDS"
      },
      "source": [
        "import os\n",
        "import os.path\n",
        "from tkinter import *\n",
        "from math import sqrt, hypot\n",
        "import time\n",
        "import random\n",
        "import winsound\n",
        "from datetime import date, datetime\n",
        "import sys\n",
        "----------------------\n",
        "window_main=Tk()\n",
        "window_main.resizable(0, 0)\n",
        "screen_width = 1007\n",
        "screen_height = 622\n",
        "screen_resolution = (screen_width, screen_height)   # Golden Ratio\n",
        "main_window_dimensions = str(screen_resolution[0])+'x'+str(screen_resolution[1])\n",
        "window_main.geometry(main_window_dimensions)\n",
        "window_main.title(\"!!!!!!!!!!!!!!!!!!!!!!!!!!!!!!!!!!!!\")\n",
        "------------\n",
        "window_main.mainloop()\n"
      ],
      "execution_count": null,
      "outputs": []
    },
    {
      "cell_type": "code",
      "metadata": {
        "colab": {
          "base_uri": "https://localhost:8080/"
        },
        "id": "epVE6Sgh1Auq",
        "outputId": "ce3785b4-f2d6-4254-8407-4ddade519391"
      },
      "source": [
        "who = [\"I am \", \"you are \"]\n",
        "mood = [\"happy\", \"confident\"]\n",
        "for i in who:\n",
        "  for ii in mood:\n",
        "    print(i + ii)\n",
        "  "
      ],
      "execution_count": null,
      "outputs": [
        {
          "output_type": "stream",
          "text": [
            "I am happy\n",
            "I am confident\n",
            "you are happy\n",
            "you are confident\n"
          ],
          "name": "stdout"
        }
      ]
    },
    {
      "cell_type": "code",
      "metadata": {
        "colab": {
          "base_uri": "https://localhost:8080/"
        },
        "id": "fowwMhtz1BB_",
        "outputId": "622ef754-1294-41a4-ef47-a4f10e5e791f"
      },
      "source": [
        "who = [\"I am \", \"you are \"]\n",
        "mood = [\"happy\", \"confident\"]\n",
        "for i in mood:\n",
        "  for ii in mood:\n",
        "    print(i + ii)"
      ],
      "execution_count": null,
      "outputs": [
        {
          "output_type": "stream",
          "text": [
            "happyhappy\n",
            "happyconfident\n",
            "confidenthappy\n",
            "confidentconfident\n"
          ],
          "name": "stdout"
        }
      ]
    },
    {
      "cell_type": "code",
      "metadata": {
        "colab": {
          "base_uri": "https://localhost:8080/"
        },
        "id": "C_IJgL-Bu0L6",
        "outputId": "483cc1ea-4f99-49bc-ca4d-a288fdb5e7a1"
      },
      "source": [
        "for x in set('pqr'):\n",
        "    print(x*2)"
      ],
      "execution_count": null,
      "outputs": [
        {
          "output_type": "stream",
          "text": [
            "pp\n",
            "rr\n",
            "qq\n"
          ],
          "name": "stdout"
        }
      ]
    },
    {
      "cell_type": "code",
      "metadata": {
        "colab": {
          "base_uri": "https://localhost:8080/"
        },
        "id": "0vx5jPjVu38U",
        "outputId": "d96b8214-d48a-4231-e4f2-20fe122f4a05"
      },
      "source": [
        "d = {\"john\":40, \"peter\":45}\n",
        "d[\"john\"]"
      ],
      "execution_count": null,
      "outputs": [
        {
          "output_type": "execute_result",
          "data": {
            "text/plain": [
              "40"
            ]
          },
          "metadata": {
            "tags": []
          },
          "execution_count": 4
        }
      ]
    },
    {
      "cell_type": "code",
      "metadata": {
        "colab": {
          "base_uri": "https://localhost:8080/"
        },
        "id": "GNsgFfk7u4FS",
        "outputId": "c96aae17-21ae-4812-ebf9-d876ac86e285"
      },
      "source": [
        "d = {\"john\":40, \"peter\":45}\n",
        "print(list(d.keys()))"
      ],
      "execution_count": null,
      "outputs": [
        {
          "output_type": "stream",
          "text": [
            "['john', 'peter']\n"
          ],
          "name": "stdout"
        }
      ]
    },
    {
      "cell_type": "code",
      "metadata": {
        "colab": {
          "base_uri": "https://localhost:8080/"
        },
        "id": "wMXD6Zzau4OM",
        "outputId": "475de48b-77a9-4734-b407-543c98602de3"
      },
      "source": [
        "a={}\n",
        "a['a']=1\n",
        "a['b']=[2,3,4]\n",
        "print(a)"
      ],
      "execution_count": null,
      "outputs": [
        {
          "output_type": "stream",
          "text": [
            "{'a': 1, 'b': [2, 3, 4]}\n"
          ],
          "name": "stdout"
        }
      ]
    },
    {
      "cell_type": "code",
      "metadata": {
        "colab": {
          "base_uri": "https://localhost:8080/"
        },
        "id": "xC9Mv7WYu0Oz",
        "outputId": "6b9c9215-47b9-4079-d9fa-48fbd9fbbcb9"
      },
      "source": [
        "z=set('abc')\n",
        "z.add('san')\n",
        "z.update(set(['p', 'q']))\n",
        "print(z)"
      ],
      "execution_count": null,
      "outputs": [
        {
          "output_type": "stream",
          "text": [
            "{'q', 'p', 'b', 'c', 'a', 'san'}\n"
          ],
          "name": "stdout"
        }
      ]
    },
    {
      "cell_type": "code",
      "metadata": {
        "colab": {
          "base_uri": "https://localhost:8080/"
        },
        "id": "uq88NPUhvGzA",
        "outputId": "13f95b0a-2c8a-4cd0-8b09-9410c80670fb"
      },
      "source": [
        "stage_name = \"Tuba\"\n",
        "password = \"W@12\"\n",
        "name = input(\"Enter your name: \").title()\n",
        "while stage_name != name:\n",
        "  print(\"Hello,{}! See you later.\".format(name))\n",
        "  name = input(\"Please enter your name: \"). title()\n",
        "  print(\"Hello, {}! The password is: {}\".format(name, password))"
      ],
      "execution_count": null,
      "outputs": [
        {
          "output_type": "stream",
          "text": [
            "Enter your name: fhgc\n",
            "Hello,Fhgc! See you later.\n",
            "Please enter your name: Tuba\n",
            "Hello, Tuba! The password is: W@12\n"
          ],
          "name": "stdout"
        }
      ]
    },
    {
      "cell_type": "code",
      "metadata": {
        "colab": {
          "base_uri": "https://localhost:8080/"
        },
        "id": "ggSiRNOm1BFo",
        "outputId": "38000939-c000-40a4-bd49-ce3247b9d1f7"
      },
      "source": [
        "a=[1,2,3,4]\n",
        "b=[sum(a[0:x+1]) for x in range(0,len(a))]\n",
        "print(b)"
      ],
      "execution_count": null,
      "outputs": [
        {
          "output_type": "stream",
          "text": [
            "[1, 3, 6, 10]\n"
          ],
          "name": "stdout"
        }
      ]
    },
    {
      "cell_type": "code",
      "metadata": {
        "colab": {
          "base_uri": "https://localhost:8080/"
        },
        "id": "KjsfPHLK1BJZ",
        "outputId": "cb64bbe2-c5b8-4090-8c63-7b6d364897da"
      },
      "source": [
        "L1 = []\n",
        "L1.append([1, [2, 3], 4])\n",
        "L1.extend([7, 8, 9])\n",
        "print(L1[0][1][1] + L1[2])\n"
      ],
      "execution_count": null,
      "outputs": [
        {
          "output_type": "stream",
          "text": [
            "11\n"
          ],
          "name": "stdout"
        }
      ]
    },
    {
      "cell_type": "code",
      "metadata": {
        "colab": {
          "base_uri": "https://localhost:8080/"
        },
        "id": "ZLgQ_aXfvKwZ",
        "outputId": "5d1d2768-9e6a-410b-a15f-5cec8a0471bf"
      },
      "source": [
        "T = (1, 2, 3, 4, 5, 6, 7, 8)\n",
        "print(T[T.index(5)], end = \" \")\n",
        "print(T[T[T[6]-3]-6])"
      ],
      "execution_count": null,
      "outputs": [
        {
          "output_type": "stream",
          "text": [
            "5 8\n"
          ],
          "name": "stdout"
        }
      ]
    },
    {
      "cell_type": "code",
      "metadata": {
        "colab": {
          "base_uri": "https://localhost:8080/"
        },
        "id": "IKpSizRGvK7j",
        "outputId": "f6d20c76-ee78-471c-9bf1-f6e20fb2e7f8"
      },
      "source": [
        "D = {1 : 1, 2 : '2', '1' : 1, '2' : 3}\n",
        "D['1'] = 2\n",
        "print(D[D[D[str(D[1])]]])"
      ],
      "execution_count": null,
      "outputs": [
        {
          "output_type": "stream",
          "text": [
            "3\n"
          ],
          "name": "stdout"
        }
      ]
    },
    {
      "cell_type": "code",
      "metadata": {
        "id": "y0mGL8ApvaMq",
        "colab": {
          "base_uri": "https://localhost:8080/"
        },
        "outputId": "c219923c-7281-4435-e690-44b163fbc94b"
      },
      "source": [
        "set1 = {1, 2, 3}\n",
        "set2 = set1.copy()\n",
        "set2.add(4)\n",
        "print(set1)"
      ],
      "execution_count": null,
      "outputs": [
        {
          "output_type": "stream",
          "text": [
            "{1, 2, 3}\n"
          ],
          "name": "stdout"
        }
      ]
    },
    {
      "cell_type": "code",
      "metadata": {
        "id": "mjl2-zvkvaV2"
      },
      "source": [
        "age = True\n",
        "chronic = False\n",
        "immune = False\n",
        "risk = age or chronic or immune\n",
        "output = True"
      ],
      "execution_count": 1,
      "outputs": []
    },
    {
      "cell_type": "code",
      "metadata": {
        "id": "f16ygPEpvadK"
      },
      "source": [
        ""
      ],
      "execution_count": null,
      "outputs": []
    }
  ]
}