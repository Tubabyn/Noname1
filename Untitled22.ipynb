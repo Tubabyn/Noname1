{
  "nbformat": 4,
  "nbformat_minor": 0,
  "metadata": {
    "colab": {
      "name": "Untitled22.ipynb",
      "provenance": [],
      "authorship_tag": "ABX9TyPTSY3LR02H+M/nqFCiXyNh",
      "include_colab_link": true
    },
    "kernelspec": {
      "name": "python3",
      "display_name": "Python 3"
    },
    "language_info": {
      "name": "python"
    }
  },
  "cells": [
    {
      "cell_type": "markdown",
      "metadata": {
        "id": "view-in-github",
        "colab_type": "text"
      },
      "source": [
        "<a href=\"https://colab.research.google.com/github/Tubabyn/Noname1/blob/main/Untitled22.ipynb\" target=\"_parent\"><img src=\"https://colab.research.google.com/assets/colab-badge.svg\" alt=\"Open In Colab\"/></a>"
      ]
    },
    {
      "cell_type": "code",
      "metadata": {
        "colab": {
          "base_uri": "https://localhost:8080/"
        },
        "id": "nI_HAQyC_EEf",
        "outputId": "1f965d13-a9af-4e22-b162-8eea26f09461"
      },
      "source": [
        "age =  input(\"Are you a cigarette addict older than 75 years old?:\").lower().strip() \n",
        "chronic = input(\"Do you have a severe chronic disease?:\").lower().strip()  \n",
        "immune =  input(\"Is your immune system too weak?:\").lower().strip()  \n",
        "risk =  age == \"yes\" or chronic == \"yes\" or immune == \"yes\"\n",
        "if risk:\n",
        "  risk_value = True\n",
        "else:\n",
        "  risk_value = False\n",
        "print(risk_value)\n"
      ],
      "execution_count": 1,
      "outputs": [
        {
          "output_type": "stream",
          "text": [
            "Are you a cigarette addict older than 75 years old?:yes\n",
            "Do you have a severe chronic disease?:no\n",
            "Is your immune system too weak?:no\n",
            "True\n"
          ],
          "name": "stdout"
        }
      ]
    }
  ]
}